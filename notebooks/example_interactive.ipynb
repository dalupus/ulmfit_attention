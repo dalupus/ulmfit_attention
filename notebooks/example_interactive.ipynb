{
 "cells": [
  {
   "cell_type": "code",
   "execution_count": 1,
   "metadata": {},
   "outputs": [],
   "source": [
    "import json\n",
    "from pathlib import Path\n",
    "import pandas as pd\n",
    "from ulmfit_attention import scenarios\n",
    "from hyperspace_explorer import configurables"
   ]
  },
  {
   "cell_type": "code",
   "execution_count": 2,
   "metadata": {},
   "outputs": [],
   "source": [
    "tasks_dir = Path.cwd().resolve().parent / 'tasks'\n",
    "\n",
    "# configs normally stored in the database\n",
    "configs_dir = Path.cwd().resolve().parent / 'configs'"
   ]
  },
  {
   "cell_type": "code",
   "execution_count": 3,
   "metadata": {},
   "outputs": [],
   "source": [
    "def load_task_conf(name):\n",
    "    return json.load((tasks_dir / f'{name}.json').open())\n",
    "\n",
    "def load_config(name):\n",
    "    return json.load((configs_dir / f'{name}.json').open())"
   ]
  },
  {
   "cell_type": "markdown",
   "metadata": {},
   "source": [
    "### Training a model on a 1k sample of the IMDB training dataset\n",
    "\n",
    "Returning the result and the trained learner object"
   ]
  },
  {
   "cell_type": "code",
   "execution_count": 4,
   "metadata": {},
   "outputs": [],
   "source": [
    "task_conf = load_task_conf('imdb_1k_sample_single')\n",
    "config = load_config('282_sample_dataset_head_training_chosen')"
   ]
  },
  {
   "cell_type": "code",
   "execution_count": 5,
   "metadata": {},
   "outputs": [],
   "source": [
    "scenario = scenarios.Scenario.from_config(task_conf['Scenario'])\n",
    "config['seed'] = task_conf['seed']"
   ]
  },
  {
   "cell_type": "code",
   "execution_count": 6,
   "metadata": {},
   "outputs": [
    {
     "data": {
      "text/plain": [
       "{'Classifier': {'Aggregation': {'agg_bn': False,\n",
       "   'agg_dropouts': [0.2, 0],\n",
       "   'agg_layers': [50, 10],\n",
       "   'att_bn': False,\n",
       "   'att_dropouts': [0, 0],\n",
       "   'att_hid_layers': [50],\n",
       "   'className': 'BranchingAttentionAggregation'},\n",
       "  'className': 'AggregatingClassifier',\n",
       "  'drop_mult': 1.25,\n",
       "  'label_smoothing_eps': 0.1,\n",
       "  'lin_ftrs': []},\n",
       " 'TrainingSchedule': {'className': 'HeadOnlySchedule',\n",
       "  'cycles': 20,\n",
       "  'lr': 0.02,\n",
       "  'wd': 0.1},\n",
       " 'seed': 0}"
      ]
     },
     "execution_count": 6,
     "metadata": {},
     "output_type": "execute_result"
    }
   ],
   "source": [
    "config"
   ]
  },
  {
   "cell_type": "code",
   "execution_count": 7,
   "metadata": {},
   "outputs": [],
   "source": [
    "# setting final AGG = 1 to get the best explainability\n",
    "update = {'Classifier': {'Aggregation': {'agg_layers': [50, 1]}}}\n",
    "config = configurables.update_config(config, update)"
   ]
  },
  {
   "cell_type": "code",
   "execution_count": 8,
   "metadata": {},
   "outputs": [
    {
     "data": {
      "text/html": [],
      "text/plain": [
       "<IPython.core.display.HTML object>"
      ]
     },
     "metadata": {},
     "output_type": "display_data"
    },
    {
     "data": {
      "text/html": [],
      "text/plain": [
       "<IPython.core.display.HTML object>"
      ]
     },
     "metadata": {},
     "output_type": "display_data"
    },
    {
     "data": {
      "text/html": [
       "<table border=\"1\" class=\"dataframe\">\n",
       "  <thead>\n",
       "    <tr style=\"text-align: left;\">\n",
       "      <th>epoch</th>\n",
       "      <th>train_loss</th>\n",
       "      <th>valid_loss</th>\n",
       "      <th>accuracy</th>\n",
       "      <th>time</th>\n",
       "    </tr>\n",
       "  </thead>\n",
       "  <tbody>\n",
       "    <tr>\n",
       "      <td>0</td>\n",
       "      <td>0.686010</td>\n",
       "      <td>#na#</td>\n",
       "      <td>00:08</td>\n",
       "    </tr>\n",
       "    <tr>\n",
       "      <td>1</td>\n",
       "      <td>0.622516</td>\n",
       "      <td>#na#</td>\n",
       "      <td>00:08</td>\n",
       "    </tr>\n",
       "    <tr>\n",
       "      <td>2</td>\n",
       "      <td>0.588206</td>\n",
       "      <td>#na#</td>\n",
       "      <td>00:07</td>\n",
       "    </tr>\n",
       "    <tr>\n",
       "      <td>3</td>\n",
       "      <td>0.577458</td>\n",
       "      <td>#na#</td>\n",
       "      <td>00:07</td>\n",
       "    </tr>\n",
       "    <tr>\n",
       "      <td>4</td>\n",
       "      <td>0.577650</td>\n",
       "      <td>#na#</td>\n",
       "      <td>00:07</td>\n",
       "    </tr>\n",
       "    <tr>\n",
       "      <td>5</td>\n",
       "      <td>0.584532</td>\n",
       "      <td>#na#</td>\n",
       "      <td>00:07</td>\n",
       "    </tr>\n",
       "    <tr>\n",
       "      <td>6</td>\n",
       "      <td>0.577925</td>\n",
       "      <td>#na#</td>\n",
       "      <td>00:08</td>\n",
       "    </tr>\n",
       "    <tr>\n",
       "      <td>7</td>\n",
       "      <td>0.567214</td>\n",
       "      <td>#na#</td>\n",
       "      <td>00:08</td>\n",
       "    </tr>\n",
       "    <tr>\n",
       "      <td>8</td>\n",
       "      <td>0.574821</td>\n",
       "      <td>#na#</td>\n",
       "      <td>00:07</td>\n",
       "    </tr>\n",
       "    <tr>\n",
       "      <td>9</td>\n",
       "      <td>0.576082</td>\n",
       "      <td>#na#</td>\n",
       "      <td>00:08</td>\n",
       "    </tr>\n",
       "    <tr>\n",
       "      <td>10</td>\n",
       "      <td>0.569659</td>\n",
       "      <td>#na#</td>\n",
       "      <td>00:08</td>\n",
       "    </tr>\n",
       "    <tr>\n",
       "      <td>11</td>\n",
       "      <td>0.557475</td>\n",
       "      <td>#na#</td>\n",
       "      <td>00:07</td>\n",
       "    </tr>\n",
       "    <tr>\n",
       "      <td>12</td>\n",
       "      <td>0.559591</td>\n",
       "      <td>#na#</td>\n",
       "      <td>00:07</td>\n",
       "    </tr>\n",
       "    <tr>\n",
       "      <td>13</td>\n",
       "      <td>0.561642</td>\n",
       "      <td>#na#</td>\n",
       "      <td>00:07</td>\n",
       "    </tr>\n",
       "    <tr>\n",
       "      <td>14</td>\n",
       "      <td>0.556397</td>\n",
       "      <td>#na#</td>\n",
       "      <td>00:08</td>\n",
       "    </tr>\n",
       "    <tr>\n",
       "      <td>15</td>\n",
       "      <td>0.551334</td>\n",
       "      <td>#na#</td>\n",
       "      <td>00:08</td>\n",
       "    </tr>\n",
       "    <tr>\n",
       "      <td>16</td>\n",
       "      <td>0.545846</td>\n",
       "      <td>#na#</td>\n",
       "      <td>00:08</td>\n",
       "    </tr>\n",
       "    <tr>\n",
       "      <td>17</td>\n",
       "      <td>0.546031</td>\n",
       "      <td>#na#</td>\n",
       "      <td>00:08</td>\n",
       "    </tr>\n",
       "    <tr>\n",
       "      <td>18</td>\n",
       "      <td>0.544017</td>\n",
       "      <td>#na#</td>\n",
       "      <td>00:08</td>\n",
       "    </tr>\n",
       "    <tr>\n",
       "      <td>19</td>\n",
       "      <td>0.544197</td>\n",
       "      <td>#na#</td>\n",
       "      <td>00:07</td>\n",
       "    </tr>\n",
       "  </tbody>\n",
       "</table>"
      ],
      "text/plain": [
       "<IPython.core.display.HTML object>"
      ]
     },
     "metadata": {},
     "output_type": "display_data"
    },
    {
     "data": {
      "text/html": [],
      "text/plain": [
       "<IPython.core.display.HTML object>"
      ]
     },
     "metadata": {},
     "output_type": "display_data"
    }
   ],
   "source": [
    "result, learner = scenario.single_run(config)"
   ]
  },
  {
   "cell_type": "code",
   "execution_count": 9,
   "metadata": {},
   "outputs": [
    {
     "name": "stdout",
     "output_type": "stream",
     "text": [
      "0.9307199716567993\n"
     ]
    }
   ],
   "source": [
    "print(result)"
   ]
  },
  {
   "cell_type": "markdown",
   "metadata": {},
   "source": [
    "### Inference on an example, getting attention data"
   ]
  },
  {
   "cell_type": "code",
   "execution_count": 18,
   "metadata": {},
   "outputs": [],
   "source": [
    "text = 'It was awful. The best thing about this movie was that it finally ended.'"
   ]
  },
  {
   "cell_type": "code",
   "execution_count": 19,
   "metadata": {},
   "outputs": [],
   "source": [
    "x, y, pred, raw_pred = learner.predict(text, return_x=True)"
   ]
  },
  {
   "cell_type": "code",
   "execution_count": 20,
   "metadata": {},
   "outputs": [
    {
     "data": {
      "text/plain": [
       "(Category neg, tensor(0), tensor([ 0.8064, -0.5708]))"
      ]
     },
     "execution_count": 20,
     "metadata": {},
     "output_type": "execute_result"
    }
   ],
   "source": [
    "y, pred, raw_pred"
   ]
  },
  {
   "cell_type": "code",
   "execution_count": null,
   "metadata": {},
   "outputs": [],
   "source": []
  },
  {
   "cell_type": "code",
   "execution_count": 21,
   "metadata": {},
   "outputs": [],
   "source": [
    "weights = pd.Series(learner.model[1].attn.last_weights[0])"
   ]
  },
  {
   "cell_type": "code",
   "execution_count": 22,
   "metadata": {},
   "outputs": [],
   "source": [
    "which_feature = 0\n",
    "features = learner.model[1].attn.last_features[0, :, which_feature]"
   ]
  },
  {
   "cell_type": "code",
   "execution_count": 23,
   "metadata": {},
   "outputs": [],
   "source": [
    "tokens = x.text.split(' ')"
   ]
  },
  {
   "cell_type": "code",
   "execution_count": 24,
   "metadata": {},
   "outputs": [],
   "source": [
    "df = pd.DataFrame({\n",
    "    'token': pd.Series(tokens),\n",
    "    'weights': pd.Series(weights), \n",
    "    'features': pd.Series(features)\n",
    "})"
   ]
  },
  {
   "cell_type": "code",
   "execution_count": null,
   "metadata": {},
   "outputs": [],
   "source": []
  },
  {
   "cell_type": "code",
   "execution_count": 25,
   "metadata": {},
   "outputs": [
    {
     "data": {
      "text/html": [
       "<style  type=\"text/css\" >\n",
       "    #T_debacd1c_79df_11ea_85c9_0d8226f05088row0_col1 {\n",
       "            width:  10em;\n",
       "             height:  80%;\n",
       "            background:  linear-gradient(90deg,#5fba7d 1.9%, transparent 1.9%);\n",
       "        }    #T_debacd1c_79df_11ea_85c9_0d8226f05088row0_col2 {\n",
       "            width:  10em;\n",
       "             height:  80%;\n",
       "            background:  linear-gradient(90deg, transparent 66.3%, #d65f5f 66.3%, #d65f5f 93.1%, transparent 93.1%);\n",
       "        }    #T_debacd1c_79df_11ea_85c9_0d8226f05088row1_col1 {\n",
       "            width:  10em;\n",
       "             height:  80%;\n",
       "            background:  linear-gradient(90deg,#5fba7d 0.1%, transparent 0.1%);\n",
       "        }    #T_debacd1c_79df_11ea_85c9_0d8226f05088row1_col2 {\n",
       "            width:  10em;\n",
       "             height:  80%;\n",
       "            background:  linear-gradient(90deg, transparent 82.5%, #d65f5f 82.5%, #d65f5f 93.1%, transparent 93.1%);\n",
       "        }    #T_debacd1c_79df_11ea_85c9_0d8226f05088row2_col1 {\n",
       "            width:  10em;\n",
       "             height:  80%;\n",
       "            background:  linear-gradient(90deg,#5fba7d 0.3%, transparent 0.3%);\n",
       "        }    #T_debacd1c_79df_11ea_85c9_0d8226f05088row2_col2 {\n",
       "            width:  10em;\n",
       "             height:  80%;\n",
       "            background:  linear-gradient(90deg, transparent 55.8%, #d65f5f 55.8%, #d65f5f 93.1%, transparent 93.1%);\n",
       "        }    #T_debacd1c_79df_11ea_85c9_0d8226f05088row3_col1 {\n",
       "            width:  10em;\n",
       "             height:  80%;\n",
       "            background:  linear-gradient(90deg,#5fba7d 4.6%, transparent 4.6%);\n",
       "        }    #T_debacd1c_79df_11ea_85c9_0d8226f05088row3_col2 {\n",
       "            width:  10em;\n",
       "             height:  80%;\n",
       "            background:  linear-gradient(90deg, transparent 90.8%, #d65f5f 90.8%, #d65f5f 93.1%, transparent 93.1%);\n",
       "        }    #T_debacd1c_79df_11ea_85c9_0d8226f05088row4_col1 {\n",
       "            width:  10em;\n",
       "             height:  80%;\n",
       "            background:  linear-gradient(90deg,#5fba7d 100.0%, transparent 100.0%);\n",
       "        }    #T_debacd1c_79df_11ea_85c9_0d8226f05088row4_col2 {\n",
       "            width:  10em;\n",
       "             height:  80%;\n",
       "            background:  linear-gradient(90deg, transparent 32.6%, #d65f5f 32.6%, #d65f5f 93.1%, transparent 93.1%);\n",
       "        }    #T_debacd1c_79df_11ea_85c9_0d8226f05088row5_col1 {\n",
       "            width:  10em;\n",
       "             height:  80%;\n",
       "            background:  linear-gradient(90deg,#5fba7d 28.5%, transparent 28.5%);\n",
       "        }    #T_debacd1c_79df_11ea_85c9_0d8226f05088row5_col2 {\n",
       "            width:  10em;\n",
       "             height:  80%;\n",
       "            background:  linear-gradient(90deg, transparent 37.3%, #d65f5f 37.3%, #d65f5f 93.1%, transparent 93.1%);\n",
       "        }    #T_debacd1c_79df_11ea_85c9_0d8226f05088row6_col1 {\n",
       "            width:  10em;\n",
       "             height:  80%;\n",
       "            background:  linear-gradient(90deg,#5fba7d 6.1%, transparent 6.1%);\n",
       "        }    #T_debacd1c_79df_11ea_85c9_0d8226f05088row6_col2 {\n",
       "            width:  10em;\n",
       "             height:  80%;\n",
       "            background:  linear-gradient(90deg, transparent 15.8%, #d65f5f 15.8%, #d65f5f 93.1%, transparent 93.1%);\n",
       "        }    #T_debacd1c_79df_11ea_85c9_0d8226f05088row7_col1 {\n",
       "            width:  10em;\n",
       "             height:  80%;\n",
       "            background:  linear-gradient(90deg,#5fba7d 2.5%, transparent 2.5%);\n",
       "        }    #T_debacd1c_79df_11ea_85c9_0d8226f05088row7_col2 {\n",
       "            width:  10em;\n",
       "             height:  80%;\n",
       "            background:  linear-gradient(90deg, transparent 29.8%, #d65f5f 29.8%, #d65f5f 93.1%, transparent 93.1%);\n",
       "        }    #T_debacd1c_79df_11ea_85c9_0d8226f05088row8_col1 {\n",
       "            width:  10em;\n",
       "             height:  80%;\n",
       "            background:  linear-gradient(90deg,#5fba7d 1.6%, transparent 1.6%);\n",
       "        }    #T_debacd1c_79df_11ea_85c9_0d8226f05088row8_col2 {\n",
       "            width:  10em;\n",
       "             height:  80%;\n",
       "            background:  linear-gradient(90deg, transparent 55.8%, #d65f5f 55.8%, #d65f5f 93.1%, transparent 93.1%);\n",
       "        }    #T_debacd1c_79df_11ea_85c9_0d8226f05088row9_col1 {\n",
       "            width:  10em;\n",
       "             height:  80%;\n",
       "            background:  linear-gradient(90deg,#5fba7d 1.5%, transparent 1.5%);\n",
       "        }    #T_debacd1c_79df_11ea_85c9_0d8226f05088row9_col2 {\n",
       "            width:  10em;\n",
       "             height:  80%;\n",
       "            background:  linear-gradient(90deg, transparent 20.6%, #d65f5f 20.6%, #d65f5f 93.1%, transparent 93.1%);\n",
       "        }    #T_debacd1c_79df_11ea_85c9_0d8226f05088row10_col1 {\n",
       "            width:  10em;\n",
       "             height:  80%;\n",
       "            background:  linear-gradient(90deg,#5fba7d 3.5%, transparent 3.5%);\n",
       "        }    #T_debacd1c_79df_11ea_85c9_0d8226f05088row10_col2 {\n",
       "            width:  10em;\n",
       "             height:  80%;\n",
       "            background:  linear-gradient(90deg, transparent 38.7%, #d65f5f 38.7%, #d65f5f 93.1%, transparent 93.1%);\n",
       "        }    #T_debacd1c_79df_11ea_85c9_0d8226f05088row11_col1 {\n",
       "            width:  10em;\n",
       "             height:  80%;\n",
       "            background:  linear-gradient(90deg,#5fba7d 1.7%, transparent 1.7%);\n",
       "        }    #T_debacd1c_79df_11ea_85c9_0d8226f05088row11_col2 {\n",
       "            width:  10em;\n",
       "             height:  80%;\n",
       "            background:  linear-gradient(90deg,#d65f5f 93.1%, transparent 93.1%);\n",
       "        }    #T_debacd1c_79df_11ea_85c9_0d8226f05088row12_col1 {\n",
       "            width:  10em;\n",
       "             height:  80%;\n",
       "            background:  linear-gradient(90deg,#5fba7d 2.2%, transparent 2.2%);\n",
       "        }    #T_debacd1c_79df_11ea_85c9_0d8226f05088row12_col2 {\n",
       "            width:  10em;\n",
       "             height:  80%;\n",
       "            background:  linear-gradient(90deg, transparent 13.3%, #d65f5f 13.3%, #d65f5f 93.1%, transparent 93.1%);\n",
       "        }    #T_debacd1c_79df_11ea_85c9_0d8226f05088row13_col1 {\n",
       "            width:  10em;\n",
       "             height:  80%;\n",
       "            background:  linear-gradient(90deg,#5fba7d 10.9%, transparent 10.9%);\n",
       "        }    #T_debacd1c_79df_11ea_85c9_0d8226f05088row13_col2 {\n",
       "            width:  10em;\n",
       "             height:  80%;\n",
       "            background:  linear-gradient(90deg, transparent 52.5%, #d65f5f 52.5%, #d65f5f 93.1%, transparent 93.1%);\n",
       "        }    #T_debacd1c_79df_11ea_85c9_0d8226f05088row14_col1 {\n",
       "            width:  10em;\n",
       "             height:  80%;\n",
       "            background:  linear-gradient(90deg,#5fba7d 13.2%, transparent 13.2%);\n",
       "        }    #T_debacd1c_79df_11ea_85c9_0d8226f05088row14_col2 {\n",
       "            width:  10em;\n",
       "             height:  80%;\n",
       "            background:  linear-gradient(90deg, transparent 83.1%, #d65f5f 83.1%, #d65f5f 93.1%, transparent 93.1%);\n",
       "        }    #T_debacd1c_79df_11ea_85c9_0d8226f05088row15_col1 {\n",
       "            width:  10em;\n",
       "             height:  80%;\n",
       "            background:  linear-gradient(90deg,#5fba7d 1.2%, transparent 1.2%);\n",
       "        }    #T_debacd1c_79df_11ea_85c9_0d8226f05088row15_col2 {\n",
       "            width:  10em;\n",
       "             height:  80%;\n",
       "            background:  linear-gradient(90deg, transparent 69.8%, #d65f5f 69.8%, #d65f5f 93.1%, transparent 93.1%);\n",
       "        }    #T_debacd1c_79df_11ea_85c9_0d8226f05088row16_col1 {\n",
       "            width:  10em;\n",
       "             height:  80%;\n",
       "            background:  linear-gradient(90deg,#5fba7d 1.0%, transparent 1.0%);\n",
       "        }    #T_debacd1c_79df_11ea_85c9_0d8226f05088row16_col2 {\n",
       "            width:  10em;\n",
       "             height:  80%;\n",
       "            background:  linear-gradient(90deg, transparent 93.1%, #5fba7d 93.1%, #5fba7d 100.0%, transparent 100.0%);\n",
       "        }    #T_debacd1c_79df_11ea_85c9_0d8226f05088row17_col1 {\n",
       "            width:  10em;\n",
       "             height:  80%;\n",
       "            background:  linear-gradient(90deg,#5fba7d 31.5%, transparent 31.5%);\n",
       "        }    #T_debacd1c_79df_11ea_85c9_0d8226f05088row17_col2 {\n",
       "            width:  10em;\n",
       "             height:  80%;\n",
       "            background:  linear-gradient(90deg, transparent 40.7%, #d65f5f 40.7%, #d65f5f 93.1%, transparent 93.1%);\n",
       "        }    #T_debacd1c_79df_11ea_85c9_0d8226f05088row18_col1 {\n",
       "            width:  10em;\n",
       "             height:  80%;\n",
       "            background:  linear-gradient(90deg,#5fba7d 24.6%, transparent 24.6%);\n",
       "        }    #T_debacd1c_79df_11ea_85c9_0d8226f05088row18_col2 {\n",
       "            width:  10em;\n",
       "             height:  80%;\n",
       "            background:  linear-gradient(90deg, transparent 55.1%, #d65f5f 55.1%, #d65f5f 93.1%, transparent 93.1%);\n",
       "        }</style><table id=\"T_debacd1c_79df_11ea_85c9_0d8226f05088\" ><thead>    <tr>        <th class=\"blank level0\" ></th>        <th class=\"col_heading level0 col0\" >token</th>        <th class=\"col_heading level0 col1\" >weights</th>        <th class=\"col_heading level0 col2\" >features</th>    </tr></thead><tbody>\n",
       "                <tr>\n",
       "                        <th id=\"T_debacd1c_79df_11ea_85c9_0d8226f05088level0_row0\" class=\"row_heading level0 row0\" >0</th>\n",
       "                        <td id=\"T_debacd1c_79df_11ea_85c9_0d8226f05088row0_col0\" class=\"data row0 col0\" >xxbos</td>\n",
       "                        <td id=\"T_debacd1c_79df_11ea_85c9_0d8226f05088row0_col1\" class=\"data row0 col1\" >0.007826</td>\n",
       "                        <td id=\"T_debacd1c_79df_11ea_85c9_0d8226f05088row0_col2\" class=\"data row0 col2\" >-1.005893</td>\n",
       "            </tr>\n",
       "            <tr>\n",
       "                        <th id=\"T_debacd1c_79df_11ea_85c9_0d8226f05088level0_row1\" class=\"row_heading level0 row1\" >1</th>\n",
       "                        <td id=\"T_debacd1c_79df_11ea_85c9_0d8226f05088row1_col0\" class=\"data row1 col0\" >xxmaj</td>\n",
       "                        <td id=\"T_debacd1c_79df_11ea_85c9_0d8226f05088row1_col1\" class=\"data row1 col1\" >0.000594</td>\n",
       "                        <td id=\"T_debacd1c_79df_11ea_85c9_0d8226f05088row1_col2\" class=\"data row1 col2\" >-0.398653</td>\n",
       "            </tr>\n",
       "            <tr>\n",
       "                        <th id=\"T_debacd1c_79df_11ea_85c9_0d8226f05088level0_row2\" class=\"row_heading level0 row2\" >2</th>\n",
       "                        <td id=\"T_debacd1c_79df_11ea_85c9_0d8226f05088row2_col0\" class=\"data row2 col0\" >it</td>\n",
       "                        <td id=\"T_debacd1c_79df_11ea_85c9_0d8226f05088row2_col1\" class=\"data row2 col1\" >0.001138</td>\n",
       "                        <td id=\"T_debacd1c_79df_11ea_85c9_0d8226f05088row2_col2\" class=\"data row2 col2\" >-1.398149</td>\n",
       "            </tr>\n",
       "            <tr>\n",
       "                        <th id=\"T_debacd1c_79df_11ea_85c9_0d8226f05088level0_row3\" class=\"row_heading level0 row3\" >3</th>\n",
       "                        <td id=\"T_debacd1c_79df_11ea_85c9_0d8226f05088row3_col0\" class=\"data row3 col0\" >was</td>\n",
       "                        <td id=\"T_debacd1c_79df_11ea_85c9_0d8226f05088row3_col1\" class=\"data row3 col1\" >0.019540</td>\n",
       "                        <td id=\"T_debacd1c_79df_11ea_85c9_0d8226f05088row3_col2\" class=\"data row3 col2\" >-0.085323</td>\n",
       "            </tr>\n",
       "            <tr>\n",
       "                        <th id=\"T_debacd1c_79df_11ea_85c9_0d8226f05088level0_row4\" class=\"row_heading level0 row4\" >4</th>\n",
       "                        <td id=\"T_debacd1c_79df_11ea_85c9_0d8226f05088row4_col0\" class=\"data row4 col0\" >awful</td>\n",
       "                        <td id=\"T_debacd1c_79df_11ea_85c9_0d8226f05088row4_col1\" class=\"data row4 col1\" >0.421856</td>\n",
       "                        <td id=\"T_debacd1c_79df_11ea_85c9_0d8226f05088row4_col2\" class=\"data row4 col2\" >-2.267060</td>\n",
       "            </tr>\n",
       "            <tr>\n",
       "                        <th id=\"T_debacd1c_79df_11ea_85c9_0d8226f05088level0_row5\" class=\"row_heading level0 row5\" >5</th>\n",
       "                        <td id=\"T_debacd1c_79df_11ea_85c9_0d8226f05088row5_col0\" class=\"data row5 col0\" >.</td>\n",
       "                        <td id=\"T_debacd1c_79df_11ea_85c9_0d8226f05088row5_col1\" class=\"data row5 col1\" >0.120160</td>\n",
       "                        <td id=\"T_debacd1c_79df_11ea_85c9_0d8226f05088row5_col2\" class=\"data row5 col2\" >-2.088816</td>\n",
       "            </tr>\n",
       "            <tr>\n",
       "                        <th id=\"T_debacd1c_79df_11ea_85c9_0d8226f05088level0_row6\" class=\"row_heading level0 row6\" >6</th>\n",
       "                        <td id=\"T_debacd1c_79df_11ea_85c9_0d8226f05088row6_col0\" class=\"data row6 col0\" >xxmaj</td>\n",
       "                        <td id=\"T_debacd1c_79df_11ea_85c9_0d8226f05088row6_col1\" class=\"data row6 col1\" >0.025916</td>\n",
       "                        <td id=\"T_debacd1c_79df_11ea_85c9_0d8226f05088row6_col2\" class=\"data row6 col2\" >-2.894467</td>\n",
       "            </tr>\n",
       "            <tr>\n",
       "                        <th id=\"T_debacd1c_79df_11ea_85c9_0d8226f05088level0_row7\" class=\"row_heading level0 row7\" >7</th>\n",
       "                        <td id=\"T_debacd1c_79df_11ea_85c9_0d8226f05088row7_col0\" class=\"data row7 col0\" >the</td>\n",
       "                        <td id=\"T_debacd1c_79df_11ea_85c9_0d8226f05088row7_col1\" class=\"data row7 col1\" >0.010670</td>\n",
       "                        <td id=\"T_debacd1c_79df_11ea_85c9_0d8226f05088row7_col2\" class=\"data row7 col2\" >-2.372480</td>\n",
       "            </tr>\n",
       "            <tr>\n",
       "                        <th id=\"T_debacd1c_79df_11ea_85c9_0d8226f05088level0_row8\" class=\"row_heading level0 row8\" >8</th>\n",
       "                        <td id=\"T_debacd1c_79df_11ea_85c9_0d8226f05088row8_col0\" class=\"data row8 col0\" >best</td>\n",
       "                        <td id=\"T_debacd1c_79df_11ea_85c9_0d8226f05088row8_col1\" class=\"data row8 col1\" >0.006905</td>\n",
       "                        <td id=\"T_debacd1c_79df_11ea_85c9_0d8226f05088row8_col2\" class=\"data row8 col2\" >-1.396706</td>\n",
       "            </tr>\n",
       "            <tr>\n",
       "                        <th id=\"T_debacd1c_79df_11ea_85c9_0d8226f05088level0_row9\" class=\"row_heading level0 row9\" >9</th>\n",
       "                        <td id=\"T_debacd1c_79df_11ea_85c9_0d8226f05088row9_col0\" class=\"data row9 col0\" >thing</td>\n",
       "                        <td id=\"T_debacd1c_79df_11ea_85c9_0d8226f05088row9_col1\" class=\"data row9 col1\" >0.006357</td>\n",
       "                        <td id=\"T_debacd1c_79df_11ea_85c9_0d8226f05088row9_col2\" class=\"data row9 col2\" >-2.713917</td>\n",
       "            </tr>\n",
       "            <tr>\n",
       "                        <th id=\"T_debacd1c_79df_11ea_85c9_0d8226f05088level0_row10\" class=\"row_heading level0 row10\" >10</th>\n",
       "                        <td id=\"T_debacd1c_79df_11ea_85c9_0d8226f05088row10_col0\" class=\"data row10 col0\" >about</td>\n",
       "                        <td id=\"T_debacd1c_79df_11ea_85c9_0d8226f05088row10_col1\" class=\"data row10 col1\" >0.014621</td>\n",
       "                        <td id=\"T_debacd1c_79df_11ea_85c9_0d8226f05088row10_col2\" class=\"data row10 col2\" >-2.038040</td>\n",
       "            </tr>\n",
       "            <tr>\n",
       "                        <th id=\"T_debacd1c_79df_11ea_85c9_0d8226f05088level0_row11\" class=\"row_heading level0 row11\" >11</th>\n",
       "                        <td id=\"T_debacd1c_79df_11ea_85c9_0d8226f05088row11_col0\" class=\"data row11 col0\" >this</td>\n",
       "                        <td id=\"T_debacd1c_79df_11ea_85c9_0d8226f05088row11_col1\" class=\"data row11 col1\" >0.007069</td>\n",
       "                        <td id=\"T_debacd1c_79df_11ea_85c9_0d8226f05088row11_col2\" class=\"data row11 col2\" >-3.486446</td>\n",
       "            </tr>\n",
       "            <tr>\n",
       "                        <th id=\"T_debacd1c_79df_11ea_85c9_0d8226f05088level0_row12\" class=\"row_heading level0 row12\" >12</th>\n",
       "                        <td id=\"T_debacd1c_79df_11ea_85c9_0d8226f05088row12_col0\" class=\"data row12 col0\" >movie</td>\n",
       "                        <td id=\"T_debacd1c_79df_11ea_85c9_0d8226f05088row12_col1\" class=\"data row12 col1\" >0.009465</td>\n",
       "                        <td id=\"T_debacd1c_79df_11ea_85c9_0d8226f05088row12_col2\" class=\"data row12 col2\" >-2.988102</td>\n",
       "            </tr>\n",
       "            <tr>\n",
       "                        <th id=\"T_debacd1c_79df_11ea_85c9_0d8226f05088level0_row13\" class=\"row_heading level0 row13\" >13</th>\n",
       "                        <td id=\"T_debacd1c_79df_11ea_85c9_0d8226f05088row13_col0\" class=\"data row13 col0\" >was</td>\n",
       "                        <td id=\"T_debacd1c_79df_11ea_85c9_0d8226f05088row13_col1\" class=\"data row13 col1\" >0.046103</td>\n",
       "                        <td id=\"T_debacd1c_79df_11ea_85c9_0d8226f05088row13_col2\" class=\"data row13 col2\" >-1.520664</td>\n",
       "            </tr>\n",
       "            <tr>\n",
       "                        <th id=\"T_debacd1c_79df_11ea_85c9_0d8226f05088level0_row14\" class=\"row_heading level0 row14\" >14</th>\n",
       "                        <td id=\"T_debacd1c_79df_11ea_85c9_0d8226f05088row14_col0\" class=\"data row14 col0\" >that</td>\n",
       "                        <td id=\"T_debacd1c_79df_11ea_85c9_0d8226f05088row14_col1\" class=\"data row14 col1\" >0.055866</td>\n",
       "                        <td id=\"T_debacd1c_79df_11ea_85c9_0d8226f05088row14_col2\" class=\"data row14 col2\" >-0.376137</td>\n",
       "            </tr>\n",
       "            <tr>\n",
       "                        <th id=\"T_debacd1c_79df_11ea_85c9_0d8226f05088level0_row15\" class=\"row_heading level0 row15\" >15</th>\n",
       "                        <td id=\"T_debacd1c_79df_11ea_85c9_0d8226f05088row15_col0\" class=\"data row15 col0\" >it</td>\n",
       "                        <td id=\"T_debacd1c_79df_11ea_85c9_0d8226f05088row15_col1\" class=\"data row15 col1\" >0.004976</td>\n",
       "                        <td id=\"T_debacd1c_79df_11ea_85c9_0d8226f05088row15_col2\" class=\"data row15 col2\" >-0.874714</td>\n",
       "            </tr>\n",
       "            <tr>\n",
       "                        <th id=\"T_debacd1c_79df_11ea_85c9_0d8226f05088level0_row16\" class=\"row_heading level0 row16\" >16</th>\n",
       "                        <td id=\"T_debacd1c_79df_11ea_85c9_0d8226f05088row16_col0\" class=\"data row16 col0\" >finally</td>\n",
       "                        <td id=\"T_debacd1c_79df_11ea_85c9_0d8226f05088row16_col1\" class=\"data row16 col1\" >0.004235</td>\n",
       "                        <td id=\"T_debacd1c_79df_11ea_85c9_0d8226f05088row16_col2\" class=\"data row16 col2\" >0.257608</td>\n",
       "            </tr>\n",
       "            <tr>\n",
       "                        <th id=\"T_debacd1c_79df_11ea_85c9_0d8226f05088level0_row17\" class=\"row_heading level0 row17\" >17</th>\n",
       "                        <td id=\"T_debacd1c_79df_11ea_85c9_0d8226f05088row17_col0\" class=\"data row17 col0\" >ended</td>\n",
       "                        <td id=\"T_debacd1c_79df_11ea_85c9_0d8226f05088row17_col1\" class=\"data row17 col1\" >0.132752</td>\n",
       "                        <td id=\"T_debacd1c_79df_11ea_85c9_0d8226f05088row17_col2\" class=\"data row17 col2\" >-1.961363</td>\n",
       "            </tr>\n",
       "            <tr>\n",
       "                        <th id=\"T_debacd1c_79df_11ea_85c9_0d8226f05088level0_row18\" class=\"row_heading level0 row18\" >18</th>\n",
       "                        <td id=\"T_debacd1c_79df_11ea_85c9_0d8226f05088row18_col0\" class=\"data row18 col0\" >.</td>\n",
       "                        <td id=\"T_debacd1c_79df_11ea_85c9_0d8226f05088row18_col1\" class=\"data row18 col1\" >0.103950</td>\n",
       "                        <td id=\"T_debacd1c_79df_11ea_85c9_0d8226f05088row18_col2\" class=\"data row18 col2\" >-1.421834</td>\n",
       "            </tr>\n",
       "    </tbody></table>"
      ],
      "text/plain": [
       "<pandas.io.formats.style.Styler at 0x7f48b5c3f0f0>"
      ]
     },
     "execution_count": 25,
     "metadata": {},
     "output_type": "execute_result"
    }
   ],
   "source": [
    "df.style.bar(subset=['weights', 'features'], align='mid', color=['#d65f5f', '#5fba7d'])"
   ]
  },
  {
   "cell_type": "code",
   "execution_count": null,
   "metadata": {},
   "outputs": [],
   "source": []
  },
  {
   "cell_type": "code",
   "execution_count": null,
   "metadata": {},
   "outputs": [],
   "source": [
    "del learner\n",
    "import gc\n",
    "gc.collect()"
   ]
  },
  {
   "cell_type": "markdown",
   "metadata": {},
   "source": [
    "## Reproduce the best run from \"IMDB sample - head-only training\"\n",
    "\n",
    "Additional information will be available in `scenario.info`, `scenario._metrics`.\n",
    "\n",
    "Normally all this data would end up in the database.\n",
    "\n",
    "A few other configs from the article available in the `configs` directory."
   ]
  },
  {
   "cell_type": "code",
   "execution_count": null,
   "metadata": {},
   "outputs": [],
   "source": []
  },
  {
   "cell_type": "code",
   "execution_count": null,
   "metadata": {},
   "outputs": [],
   "source": [
    "task_conf = load_task_conf('imdb_1k_20_folds')\n",
    "config = load_config('282_sample_dataset_head_training_chosen')"
   ]
  },
  {
   "cell_type": "code",
   "execution_count": null,
   "metadata": {},
   "outputs": [],
   "source": [
    "scenario = scenarios.Scenario.from_config(task_conf['Scenario'])\n",
    "config['seed'] = task_conf['seed']"
   ]
  },
  {
   "cell_type": "code",
   "execution_count": null,
   "metadata": {},
   "outputs": [],
   "source": [
    "result, _ = scenario.single_run(config)"
   ]
  },
  {
   "cell_type": "code",
   "execution_count": null,
   "metadata": {},
   "outputs": [],
   "source": []
  },
  {
   "cell_type": "code",
   "execution_count": null,
   "metadata": {},
   "outputs": [],
   "source": []
  }
 ],
 "metadata": {
  "kernelspec": {
   "display_name": "Python [conda env:ulmfit_attention]",
   "language": "python",
   "name": "conda-env-ulmfit_attention-py"
  },
  "language_info": {
   "codemirror_mode": {
    "name": "ipython",
    "version": 3
   },
   "file_extension": ".py",
   "mimetype": "text/x-python",
   "name": "python",
   "nbconvert_exporter": "python",
   "pygments_lexer": "ipython3",
   "version": "3.7.0"
  }
 },
 "nbformat": 4,
 "nbformat_minor": 4
}
